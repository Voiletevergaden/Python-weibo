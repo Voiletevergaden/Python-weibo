{
  "nbformat": 4,
  "nbformat_minor": 0,
  "metadata": {
    "colab": {
      "name": "first-neural-node",
      "provenance": [],
      "toc_visible": true,
      "authorship_tag": "ABX9TyNYudxdmDhQa+S2Ibnc5X4W",
      "include_colab_link": true
    },
    "kernelspec": {
      "name": "python3",
      "display_name": "Python 3"
    },
    "language_info": {
      "name": "python"
    }
  },
  "cells": [
    {
      "cell_type": "markdown",
      "metadata": {
        "id": "view-in-github",
        "colab_type": "text"
      },
      "source": [
        "<a href=\"https://colab.research.google.com/github/Voiletevergaden/Python-weibo/blob/main/first_neural_node.ipynb\" target=\"_parent\"><img src=\"https://colab.research.google.com/assets/colab-badge.svg\" alt=\"Open In Colab\"/></a>"
      ]
    },
    {
      "cell_type": "code",
      "metadata": {
        "id": "D-5zhk2AgXgf"
      },
      "source": [
        "%config IPCompleter.greedy=True"
      ],
      "execution_count": null,
      "outputs": []
    },
    {
      "cell_type": "code",
      "metadata": {
        "id": "HGk1q2LALCaI"
      },
      "source": [
        "import tensorflow as tf\n",
        "import numpy as np\n",
        "from tensorflow import keras\n",
        "model = tf.keras.Sequential([tf.keras.layers.Dense(units=1,input_shape=[1])])\n",
        "model.compile(optimizer='sgd',loss='mean_squared_error')\n",
        "\n",
        "xs = np.array([-1.0,0.0,1.0,2.0,3.0,4.0],dtype=float)\n",
        "ys = np.array([-3.0,-1.0,1.0,3.0,5.0,7.0],dtype=float)\n",
        "\n",
        "model.fit(xs,ys,epochs=500)\n",
        "\n",
        "print(model.predict([10.0]))"
      ],
      "execution_count": null,
      "outputs": []
    },
    {
      "cell_type": "code",
      "metadata": {
        "id": "j_WwDB1B1h-e"
      },
      "source": [
        "fashion_mnist=keras.datasets.fashion_mnist\n",
        "(train_images,train_labels),(test_images,test_images)=fashion_mnist.load_data()\n",
        "\n"
      ],
      "execution_count": null,
      "outputs": []
    },
    {
      "cell_type": "markdown",
      "metadata": {
        "id": "yZOtPh5tK8ih"
      },
      "source": [
        "# 新段落"
      ]
    }
  ]
}